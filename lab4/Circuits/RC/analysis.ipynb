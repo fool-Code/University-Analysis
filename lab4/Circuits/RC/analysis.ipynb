{
 "cells": [],
 "metadata": {
  "interpreter": {
   "hash": "5386984a14e47005fdfd3ef1aa1795eb8f66983d4af513c5dbfe64438deed9ec"
  },
  "kernelspec": {
   "display_name": "Python 3.10.0 ('myenv')",
   "language": "python",
   "name": "python3"
  },
  "language_info": {
   "codemirror_mode": {
    "name": "ipython",
    "version": 3
   },
   "file_extension": ".py",
   "mimetype": "text/x-python",
   "name": "python",
   "nbconvert_exporter": "python",
   "pygments_lexer": "ipython3",
   "version": "3.10.0"
  },
  "orig_nbformat": 4
 },
 "nbformat": 4,
 "nbformat_minor": 2
}
